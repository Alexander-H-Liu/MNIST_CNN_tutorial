{
 "cells": [
  {
   "cell_type": "code",
   "execution_count": 1,
   "metadata": {},
   "outputs": [
    {
     "name": "stderr",
     "output_type": "stream",
     "text": [
      "Using TensorFlow backend.\n"
     ]
    }
   ],
   "source": [
    "# Using keras, a well known deep learning framework.\n",
    "# It's suitable for ppl who are new to deep learning (since it is a high level api)\n",
    "import keras\n",
    "\n",
    "# Import the components we're about to use\n",
    "from keras.layers import Conv2D,MaxPooling2D,Activation,Flatten,Dense\n",
    "\n",
    "# import mnist dataset using keras's api\n",
    "from keras.datasets import mnist\n",
    "\n",
    "# toolkit for visualization\n",
    "import matplotlib.pyplot as plt\n",
    "%matplotlib inline\n",
    "\n",
    "# image shape of MNIST\n",
    "image_shape = (28,28,1)\n",
    "\n",
    "# Parameters for the model we're about to build\n",
    "# Modify these values as you like!\n",
    "layer_1_filters = 9\n",
    "layer_1_kernel_size = 2\n",
    "layer_2_filters = 9\n",
    "layer_2_kernel_size = 2\n",
    "nn_size = 32"
   ]
  },
  {
   "cell_type": "markdown",
   "metadata": {},
   "source": [
    "# Dataset\n",
    "\n",
    "MNIST : handwritten digit dataset."
   ]
  },
  {
   "cell_type": "code",
   "execution_count": 2,
   "metadata": {},
   "outputs": [
    {
     "name": "stdout",
     "output_type": "stream",
     "text": [
      "\t\tMNSIT Dataset\t\t\n",
      "Training set size :\t 60000\n",
      "Testing set size :\t 10000\n",
      "\t\tImage Demo\t\t\n",
      "Training image No. 0 (label= 5 )\n"
     ]
    },
    {
     "data": {
      "image/png": "[encoded data removed]",
      "text/plain": [
       "<matplotlib.figure.Figure at 0x11196d438>"
      ]
     },
     "metadata": {},
     "output_type": "display_data"
    }
   ],
   "source": [
    "# Load MNIST\n",
    "(x_train, y_train), (x_test, y_test) = mnist.load_data()\n",
    "# Normalize the image\n",
    "x_train = x_train.astype('float32')\n",
    "x_test = x_test.astype('float32')\n",
    "x_train /= 255\n",
    "x_test /= 255\n",
    "\n",
    "# Meta data of MNIST\n",
    "print('\\t\\tMNSIT Dataset\\t\\t')\n",
    "print('Training set size :\\t',len(x_train))\n",
    "print('Testing set size :\\t',len(x_test))\n",
    "\n",
    "# Display the an instance in our training set\n",
    "print('\\t\\tImage Demo\\t\\t')\n",
    "index = 0\n",
    "_ = plt.imshow(x_train[index],cmap='gray')\n",
    "_ = plt.axis('off')\n",
    "print('Training image No.',index,'(label=',y_train[index],')')\n",
    "\n",
    "# Pick a test image for demo\n",
    "test_index = 0\n",
    "test_image = x_test[test_index]\n",
    "test_label = y_test[test_index]"
   ]
  },
  {
   "cell_type": "markdown",
   "metadata": {},
   "source": [
    "# CNN Model\n",
    "Convolution Nerual Network for MNIST digit classification."
   ]
  },
  {
   "cell_type": "code",
   "execution_count": 3,
   "metadata": {},
   "outputs": [
    {
     "name": "stdout",
     "output_type": "stream",
     "text": [
      "\t\t\tOverview of Our CNN Model\t\t\t\n",
      "_________________________________________________________________\n",
      "Layer (type)                 Output Shape              Param #   \n",
      "=================================================================\n",
      "conv2d_1 (Conv2D)            (None, 27, 27, 9)         45        \n",
      "_________________________________________________________________\n",
      "max_pooling2d_1 (MaxPooling2 (None, 13, 13, 9)         0         \n",
      "_________________________________________________________________\n",
      "activation_1 (Activation)    (None, 13, 13, 9)         0         \n",
      "_________________________________________________________________\n",
      "conv2d_2 (Conv2D)            (None, 12, 12, 9)         333       \n",
      "_________________________________________________________________\n",
      "max_pooling2d_2 (MaxPooling2 (None, 6, 6, 9)           0         \n",
      "_________________________________________________________________\n",
      "activation_2 (Activation)    (None, 6, 6, 9)           0         \n",
      "_________________________________________________________________\n",
      "flatten_1 (Flatten)          (None, 324)               0         \n",
      "_________________________________________________________________\n",
      "dense_1 (Dense)              (None, 32)                10400     \n",
      "_________________________________________________________________\n",
      "dense_2 (Dense)              (None, 10)                330       \n",
      "=================================================================\n",
      "Total params: 11,108\n",
      "Trainable params: 11,108\n",
      "Non-trainable params: 0\n",
      "_________________________________________________________________\n"
     ]
    }
   ],
   "source": [
    "# Using sequential model (strait forward pipeline with single input/output) from keras\n",
    "model = keras.models.Sequential()\n",
    "\n",
    "# Add convolution layers to our model\n",
    "model.add(Conv2D(layer_1_filters,layer_1_kernel_size,input_shape=image_shape))\n",
    "model.add(MaxPooling2D())\n",
    "model.add(Activation('relu'))\n",
    "model.add(Conv2D(layer_2_filters,layer_2_kernel_size))\n",
    "model.add(MaxPooling2D())\n",
    "model.add(Activation('relu'))\n",
    "model.add(Flatten()) # reshape a n*n*depth image to a vector with dimension = n*n*depth\n",
    "model.add(Dense(nn_size,activation='relu'))\n",
    "model.add(Dense(10,activation='softmax'))\n",
    "\n",
    "# Compile the model\n",
    "model.compile(optimizer='adam', loss='categorical_crossentropy', metrics=['accuracy'])\n",
    "print('\\t\\t\\tOverview of Our CNN Model\\t\\t\\t')\n",
    "model.summary()"
   ]
  },
  {
   "cell_type": "markdown",
   "metadata": {},
   "source": [
    "# Train model\n",
    "We train our CNN model with the training data from MNIST for 2 epoch"
   ]
  },
  {
   "cell_type": "code",
   "execution_count": 4,
   "metadata": {},
   "outputs": [
    {
     "name": "stdout",
     "output_type": "stream",
     "text": [
      "Epoch 1/2\n",
      "60000/60000 [==============================] - 17s 289us/step - loss: 0.3112 - acc: 0.9062\n",
      "Epoch 2/2\n",
      "60000/60000 [==============================] - 17s 292us/step - loss: 0.1117 - acc: 0.9652\n"
     ]
    }
   ],
   "source": [
    "# Reshape input (specified image depth for keras cnn)\n",
    "x_train = x_train.reshape(-1,28,28,1)\n",
    "# one-hot encoding label for as the target of model\n",
    "y_train = keras.utils.to_categorical(y_train, 10)\n",
    "\n",
    "_ = model.fit(x = x_train, y = y_train, epochs = 2)"
   ]
  },
  {
   "cell_type": "markdown",
   "metadata": {},
   "source": [
    "# Test model\n",
    "Verfy the performance of our CNN model with the testing data from MNIST."
   ]
  },
  {
   "cell_type": "code",
   "execution_count": 5,
   "metadata": {},
   "outputs": [
    {
     "name": "stdout",
     "output_type": "stream",
     "text": [
      "10000/10000 [==============================] - 1s 140us/step\n",
      "Testing loss = 0.0853926225269\n",
      "Testing accuracy = 0.9731\n"
     ]
    }
   ],
   "source": [
    "x_test = x_test.reshape(-1,28,28,1)\n",
    "y_test = keras.utils.to_categorical(y_test, 10)\n",
    "loss,acc = model.evaluate(x_test,y_test)\n",
    "print('Testing loss =',loss)\n",
    "print('Testing accuracy =',acc)\n",
    "\n",
    "pred_label = model.predict(x_test[test_index:test_index+1])[test_index]\n"
   ]
  },
  {
   "cell_type": "code",
   "execution_count": 6,
   "metadata": {},
   "outputs": [
    {
     "name": "stdout",
     "output_type": "stream",
     "text": [
      "Testing image No. 0 (label= 7 )\n",
      "Our model's prediction:\n",
      "\tlabel = 0 prob. = 0.0000%\n",
      "\tlabel = 1 prob. = 0.0000%\n",
      "\tlabel = 2 prob. = 0.0002%\n",
      "\tlabel = 3 prob. = 0.0000%\n",
      "\tlabel = 4 prob. = 0.0000%\n",
      "\tlabel = 5 prob. = 0.0000%\n",
      "\tlabel = 6 prob. = 0.0000%\n",
      "\tlabel = 7 prob. = 0.9998%\n",
      "\tlabel = 8 prob. = 0.0000%\n",
      "\tlabel = 9 prob. = 0.0000%\n"
     ]
    },
    {
     "data": {
      "image/png": "[encoded data removed]",
      "text/plain": [
       "<matplotlib.figure.Figure at 0x120e4d978>"
      ]
     },
     "metadata": {},
     "output_type": "display_data"
    }
   ],
   "source": [
    "print('Testing image No.',test_index,'(label=',test_label,')')\n",
    "_ = plt.imshow(test_image,cmap='gray')\n",
    "_ = plt.axis('off')\n",
    "print('Our model\\'s prediction:')\n",
    "for i in range(10):\n",
    "    print('\\tlabel =',i,'prob. = {:.4f}%'.format(pred_label[i]))\n"
   ]
  },
  {
   "cell_type": "code",
   "execution_count": null,
   "metadata": {},
   "outputs": [],
   "source": []
  }
 ],
 "metadata": {
  "kernelspec": {
   "display_name": "Python 3",
   "language": "python",
   "name": "python3"
  },
  "language_info": {
   "codemirror_mode": {
    "name": "ipython",
    "version": 3
   },
   "file_extension": ".py",
   "mimetype": "text/x-python",
   "name": "python",
   "nbconvert_exporter": "python",
   "pygments_lexer": "ipython3",
   "version": "3.5.2"
  }
 },
 "nbformat": 4,
 "nbformat_minor": 2
}
